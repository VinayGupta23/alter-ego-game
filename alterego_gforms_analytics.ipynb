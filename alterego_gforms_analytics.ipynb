{
 "cells": [
  {
   "cell_type": "code",
   "execution_count": 66,
   "id": "2eff1fdf",
   "metadata": {},
   "outputs": [],
   "source": [
    "import gspread as gs\n",
    "import pandas as pd\n",
    "import json\n",
    "import matplotlib.pyplot as plt"
   ]
  },
  {
   "cell_type": "code",
   "execution_count": 5,
   "id": "82912174",
   "metadata": {},
   "outputs": [],
   "source": [
    "gc = gs.service_account(filename='google_forms_service_account.json')\n",
    "url = \"https://docs.google.com/spreadsheets/d/13bp-6oVE_KvA9XSeNkV3Nbk6jX-zDTYYlbnTxIaunv8/edit?resourcekey#gid=2040687576\"\n",
    "sh = gc.open_by_url(url)\n",
    "ws = sh.worksheet('responses')"
   ]
  },
  {
   "cell_type": "code",
   "execution_count": 118,
   "id": "75b5e1ed",
   "metadata": {},
   "outputs": [
    {
     "data": {
      "text/html": [
       "<div>\n",
       "<style scoped>\n",
       "    .dataframe tbody tr th:only-of-type {\n",
       "        vertical-align: middle;\n",
       "    }\n",
       "\n",
       "    .dataframe tbody tr th {\n",
       "        vertical-align: top;\n",
       "    }\n",
       "\n",
       "    .dataframe thead th {\n",
       "        text-align: right;\n",
       "    }\n",
       "</style>\n",
       "<table border=\"1\" class=\"dataframe\">\n",
       "  <thead>\n",
       "    <tr style=\"text-align: right;\">\n",
       "      <th></th>\n",
       "      <th>Timestamp</th>\n",
       "      <th>Data</th>\n",
       "    </tr>\n",
       "  </thead>\n",
       "  <tbody>\n",
       "    <tr>\n",
       "      <th>0</th>\n",
       "      <td>9/28/2022 19:26:27</td>\n",
       "      <td>{\"playerName\" : \"player1\",\"level\" : 1,\"playerD...</td>\n",
       "    </tr>\n",
       "    <tr>\n",
       "      <th>1</th>\n",
       "      <td>9/28/2022 19:26:38</td>\n",
       "      <td>{\"playerName\" : \"player1\",\"level\" : 1,\"playerD...</td>\n",
       "    </tr>\n",
       "    <tr>\n",
       "      <th>2</th>\n",
       "      <td>9/28/2022 19:26:50</td>\n",
       "      <td>{\"playerName\" : \"player1\",\"level\" : 1,\"playerD...</td>\n",
       "    </tr>\n",
       "    <tr>\n",
       "      <th>3</th>\n",
       "      <td>9/28/2022 19:26:58</td>\n",
       "      <td>{\"playerName\" : \"player1\",\"level\" : 2,\"playerD...</td>\n",
       "    </tr>\n",
       "    <tr>\n",
       "      <th>4</th>\n",
       "      <td>9/28/2022 19:27:19</td>\n",
       "      <td>{\"playerName\" : \"player1\",\"level\" : 2,\"playerD...</td>\n",
       "    </tr>\n",
       "  </tbody>\n",
       "</table>\n",
       "</div>"
      ],
      "text/plain": [
       "            Timestamp                                               Data\n",
       "0  9/28/2022 19:26:27  {\"playerName\" : \"player1\",\"level\" : 1,\"playerD...\n",
       "1  9/28/2022 19:26:38  {\"playerName\" : \"player1\",\"level\" : 1,\"playerD...\n",
       "2  9/28/2022 19:26:50  {\"playerName\" : \"player1\",\"level\" : 1,\"playerD...\n",
       "3  9/28/2022 19:26:58  {\"playerName\" : \"player1\",\"level\" : 2,\"playerD...\n",
       "4  9/28/2022 19:27:19  {\"playerName\" : \"player1\",\"level\" : 2,\"playerD..."
      ]
     },
     "execution_count": 118,
     "metadata": {},
     "output_type": "execute_result"
    }
   ],
   "source": [
    "df = pd.DataFrame(ws.get_all_records())\n",
    "df.head()"
   ]
  },
  {
   "cell_type": "code",
   "execution_count": 119,
   "id": "f88c0d03",
   "metadata": {},
   "outputs": [
    {
     "data": {
      "text/html": [
       "<div>\n",
       "<style scoped>\n",
       "    .dataframe tbody tr th:only-of-type {\n",
       "        vertical-align: middle;\n",
       "    }\n",
       "\n",
       "    .dataframe tbody tr th {\n",
       "        vertical-align: top;\n",
       "    }\n",
       "\n",
       "    .dataframe thead th {\n",
       "        text-align: right;\n",
       "    }\n",
       "</style>\n",
       "<table border=\"1\" class=\"dataframe\">\n",
       "  <thead>\n",
       "    <tr style=\"text-align: right;\">\n",
       "      <th></th>\n",
       "      <th>playerName</th>\n",
       "      <th>level</th>\n",
       "      <th>playerDeaths</th>\n",
       "      <th>cloneDeaths</th>\n",
       "    </tr>\n",
       "  </thead>\n",
       "  <tbody>\n",
       "    <tr>\n",
       "      <th>0</th>\n",
       "      <td>player1</td>\n",
       "      <td>1</td>\n",
       "      <td>0</td>\n",
       "      <td>0</td>\n",
       "    </tr>\n",
       "    <tr>\n",
       "      <th>1</th>\n",
       "      <td>player1</td>\n",
       "      <td>1</td>\n",
       "      <td>1</td>\n",
       "      <td>1</td>\n",
       "    </tr>\n",
       "    <tr>\n",
       "      <th>2</th>\n",
       "      <td>player1</td>\n",
       "      <td>1</td>\n",
       "      <td>2</td>\n",
       "      <td>2</td>\n",
       "    </tr>\n",
       "    <tr>\n",
       "      <th>3</th>\n",
       "      <td>player1</td>\n",
       "      <td>2</td>\n",
       "      <td>0</td>\n",
       "      <td>0</td>\n",
       "    </tr>\n",
       "    <tr>\n",
       "      <th>4</th>\n",
       "      <td>player1</td>\n",
       "      <td>2</td>\n",
       "      <td>1</td>\n",
       "      <td>1</td>\n",
       "    </tr>\n",
       "    <tr>\n",
       "      <th>5</th>\n",
       "      <td>player1</td>\n",
       "      <td>2</td>\n",
       "      <td>2</td>\n",
       "      <td>2</td>\n",
       "    </tr>\n",
       "    <tr>\n",
       "      <th>6</th>\n",
       "      <td>player1</td>\n",
       "      <td>1</td>\n",
       "      <td>2</td>\n",
       "      <td>5</td>\n",
       "    </tr>\n",
       "  </tbody>\n",
       "</table>\n",
       "</div>"
      ],
      "text/plain": [
       "  playerName  level  playerDeaths  cloneDeaths\n",
       "0    player1      1             0            0\n",
       "1    player1      1             1            1\n",
       "2    player1      1             2            2\n",
       "3    player1      2             0            0\n",
       "4    player1      2             1            1\n",
       "5    player1      2             2            2\n",
       "6    player1      1             2            5"
      ]
     },
     "execution_count": 119,
     "metadata": {},
     "output_type": "execute_result"
    }
   ],
   "source": [
    "data = []\n",
    "\n",
    "for row in df['Data']:\n",
    "    res = json.loads(row)\n",
    "    data.append(res)\n",
    "    \n",
    "df1 = pd.DataFrame.from_dict(data)\n",
    "df1"
   ]
  },
  {
   "cell_type": "markdown",
   "id": "255e060f",
   "metadata": {},
   "source": [
    "# Average Player Deaths per Level"
   ]
  },
  {
   "cell_type": "code",
   "execution_count": 120,
   "id": "1b06f4ae",
   "metadata": {},
   "outputs": [
    {
     "data": {
      "text/plain": [
       "<AxesSubplot: ylabel='level'>"
      ]
     },
     "execution_count": 120,
     "metadata": {},
     "output_type": "execute_result"
    },
    {
     "data": {
      "image/png": "[encoded data removed]",
      "text/plain": [
       "<Figure size 432x288 with 1 Axes>"
      ]
     },
     "metadata": {
      "needs_background": "light"
     },
     "output_type": "display_data"
    }
   ],
   "source": [
    "# Average player deaths per level\n",
    "playerDeathsAvgLevel=df1.groupby(by=[\"level\"]).aggregate({\"playerDeaths\":\"mean\"})\n",
    "playerDeathsAvgLeveldf = playerDeathsAvgLevel.reset_index()\n",
    "\n",
    "playerDeathsAvgLeveldf.plot(x = 'level', y = 'playerDeaths', kind = 'barh')"
   ]
  },
  {
   "cell_type": "markdown",
   "id": "34d2caac",
   "metadata": {},
   "source": [
    "# Average Clone Deaths per Level"
   ]
  },
  {
   "cell_type": "code",
   "execution_count": 121,
   "id": "3d52b807",
   "metadata": {},
   "outputs": [
    {
     "data": {
      "text/plain": [
       "<AxesSubplot: ylabel='level'>"
      ]
     },
     "execution_count": 121,
     "metadata": {},
     "output_type": "execute_result"
    },
    {
     "data": {
      "image/png": "[encoded data removed]",
      "text/plain": [
       "<Figure size 432x288 with 1 Axes>"
      ]
     },
     "metadata": {
      "needs_background": "light"
     },
     "output_type": "display_data"
    }
   ],
   "source": [
    "# Average player deaths per level\n",
    "cloneDeathsAvgLevel=df1.groupby(by=[\"level\"]).aggregate({\"cloneDeaths\":\"mean\"})\n",
    "cloneDeathsAvgLeveldf = cloneDeathsAvgLevel.reset_index()\n",
    "\n",
    "cloneDeathsAvgLeveldf.plot(x = 'level', y = 'cloneDeaths', kind = 'barh')"
   ]
  },
  {
   "cell_type": "markdown",
   "id": "23a9bd37",
   "metadata": {},
   "source": [
    "# Average Player and Clone Deaths per Level"
   ]
  },
  {
   "cell_type": "code",
   "execution_count": 122,
   "id": "dbdb5043",
   "metadata": {},
   "outputs": [
    {
     "data": {
      "text/plain": [
       "<AxesSubplot: xlabel='level'>"
      ]
     },
     "execution_count": 122,
     "metadata": {},
     "output_type": "execute_result"
    },
    {
     "data": {
      "image/png": "[encoded data removed]",
      "text/plain": [
       "<Figure size 432x288 with 2 Axes>"
      ]
     },
     "metadata": {
      "needs_background": "light"
     },
     "output_type": "display_data"
    }
   ],
   "source": [
    "# Average player and deaths per level\n",
    "deathsAvgLevel=df1.groupby(by=[\"level\"]).aggregate({\"playerDeaths\":\"mean\", \"cloneDeaths\":\"mean\"})\n",
    "deathsAvgLeveldf = deathsAvgLevel.reset_index()\n",
    "\n",
    "# deathsAvgLeveldf.plot(x = 'level', y = 'playerDeaths', kind = 'barh')\n",
    "deathsAvgLeveldf.plot(x = 'level', secondary_y = 'cloneDeaths', kind = 'bar')"
   ]
  },
  {
   "cell_type": "code",
   "execution_count": null,
   "id": "cd017ea3",
   "metadata": {},
   "outputs": [],
   "source": []
  }
 ],
 "metadata": {
  "kernelspec": {
   "display_name": "Python 3 (ipykernel)",
   "language": "python",
   "name": "python3"
  },
  "language_info": {
   "codemirror_mode": {
    "name": "ipython",
    "version": 3
   },
   "file_extension": ".py",
   "mimetype": "text/x-python",
   "name": "python",
   "nbconvert_exporter": "python",
   "pygments_lexer": "ipython3",
   "version": "3.9.8"
  }
 },
 "nbformat": 4,
 "nbformat_minor": 5
}
