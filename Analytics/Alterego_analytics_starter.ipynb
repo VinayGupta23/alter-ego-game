{
 "cells": [
  {
   "cell_type": "code",
   "execution_count": null,
   "id": "1a1d8d38",
   "metadata": {},
   "outputs": [],
   "source": [
    "import gspread as gs\n",
    "import pandas as pd\n",
    "import numpy as np\n",
    "import json\n",
    "import matplotlib.pyplot as plt\n",
    "import time\n",
    "import datetime\n",
    "import matplotlib.ticker as ticker"
   ]
  },
  {
   "cell_type": "code",
   "execution_count": null,
   "id": "cdf5f25e",
   "metadata": {},
   "outputs": [],
   "source": [
    "df = pd.read_csv('your-file-in-local')\n",
    "df = df[(df['Level'] != 'ButtonMovingTrapScene') & (df['Level'] != 'BlankScene')]\n"
   ]
  },
  {
   "cell_type": "code",
   "execution_count": null,
   "id": "cdabad21",
   "metadata": {},
   "outputs": [],
   "source": [
    "pillLevels = ['5-1', '5-2', '5-3', '6-1', '6-2', '6-3', '7-3', 'B-2', 'B-3']\n",
    "gemLevels = ['4-1', '6-2', '7-2']\n"
   ]
  },
  {
   "cell_type": "markdown",
   "id": "3b5f6b06",
   "metadata": {},
   "source": [
    "## Application Version Filter"
   ]
  },
  {
   "cell_type": "code",
   "execution_count": null,
   "id": "12b4023b",
   "metadata": {},
   "outputs": [],
   "source": [
    "appv = input(\"Enter Application Version: \")\n",
    "appv = float(appv)\n",
    "df = df[(df['ApplicationVersion'] == appv)]"
   ]
  },
  {
   "cell_type": "markdown",
   "id": "f4333184",
   "metadata": {},
   "source": [
    "## Date time Filter"
   ]
  },
  {
   "cell_type": "code",
   "execution_count": null,
   "id": "f3c1f8a0",
   "metadata": {},
   "outputs": [],
   "source": [
    "beginDate = input(\"Enter beginning date (mm/dd/yyyy)\")\n",
    "endDate = input(\"Enter ending date (mm/dd/yyyy)\")\n",
    "\n",
    "beginDate = beginDate + ' 00:00:00'\n",
    "endDate = endDate + ' 23:59:59'\n",
    "\n",
    "print(beginDate)\n",
    "print(endDate)\n",
    "\n",
    "dateFormatting = lambda x : datetime.datetime.strptime(x, format_data)\n",
    "format_data = \"%m/%d/%Y %H:%M:%S\"\n",
    "\n",
    "beginDate = dateFormatting(beginDate)\n",
    "endDate = dateFormatting(endDate)\n",
    "\n",
    "df['Timestamp'] = df['Timestamp'].apply(dateFormatting)\n",
    "\n",
    "df = df[(df['Timestamp'] >= beginDate) & (df['Timestamp'] <= endDate)]\n",
    "df = df.dropna()\n"
   ]
  },
  {
   "cell_type": "markdown",
   "id": "9c102fe3",
   "metadata": {},
   "source": [
    "## Validation"
   ]
  },
  {
   "cell_type": "code",
   "execution_count": null,
   "id": "4458825e",
   "metadata": {},
   "outputs": [],
   "source": [
    "if df.isnull().values.any():\n",
    "    print(\"Error!: Null values present\")\n",
    "    \n",
    "invalid = df[(df['PlayerDeaths'] == 1) & (df['Restarts'] == 1)]\n",
    "if len(invalid) != 0:\n",
    "    print(\"Error!: Invalid entry present\")"
   ]
  },
  {
   "cell_type": "code",
   "execution_count": null,
   "id": "36ca277b",
   "metadata": {},
   "outputs": [],
   "source": [
    "df.head()"
   ]
  }
 ],
 "metadata": {
  "kernelspec": {
   "display_name": "Python 3 (ipykernel)",
   "language": "python",
   "name": "python3"
  },
  "language_info": {
   "codemirror_mode": {
    "name": "ipython",
    "version": 3
   },
   "file_extension": ".py",
   "mimetype": "text/x-python",
   "name": "python",
   "nbconvert_exporter": "python",
   "pygments_lexer": "ipython3",
   "version": "3.9.8"
  }
 },
 "nbformat": 4,
 "nbformat_minor": 5
}
